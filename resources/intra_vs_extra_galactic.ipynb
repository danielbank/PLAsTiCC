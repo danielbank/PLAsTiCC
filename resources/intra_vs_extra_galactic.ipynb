{
 "cells": [
  {
   "cell_type": "markdown",
   "metadata": {},
   "source": [
    "https://www.kaggle.com/kyleboone/naive-benchmark-galactic-vs-extragalactic"
   ]
  },
  {
   "cell_type": "code",
   "execution_count": 1,
   "metadata": {},
   "outputs": [],
   "source": [
    "import numpy as np\n",
    "import pandas as pd\n",
    "import matplotlib.pyplot as plt"
   ]
  },
  {
   "cell_type": "code",
   "execution_count": 2,
   "metadata": {},
   "outputs": [],
   "source": [
    "%matplotlib inline"
   ]
  },
  {
   "cell_type": "code",
   "execution_count": 3,
   "metadata": {},
   "outputs": [],
   "source": [
    "meta_data = pd.read_csv('../input/training_set_metadata.csv')\n",
    "test_meta_data = pd.read_csv('../input/test_set_metadata.csv')"
   ]
  },
  {
   "cell_type": "code",
   "execution_count": 4,
   "metadata": {},
   "outputs": [],
   "source": [
    "targets = np.hstack([np.unique(meta_data['target']), [99]])\n",
    "target_map = {j:i for i, j in enumerate(targets)}\n",
    "target_ids = [target_map[i] for i in meta_data['target']]\n",
    "meta_data['target_id'] = target_ids"
   ]
  },
  {
   "cell_type": "code",
   "execution_count": 5,
   "metadata": {},
   "outputs": [
    {
     "data": {
      "image/png": "[encoded data removed]",
      "text/plain": [
       "<Figure size 720x576 with 1 Axes>"
      ]
     },
     "metadata": {
      "needs_background": "light"
     },
     "output_type": "display_data"
    }
   ],
   "source": [
    "galactic_cut = meta_data['hostgal_specz'] == 0\n",
    "plt.figure(figsize=(10, 8))\n",
    "plt.hist(meta_data[galactic_cut]['target_id'], 15, (0, 15), alpha=0.5, label='Galactic')\n",
    "plt.hist(meta_data[~galactic_cut]['target_id'], 15, (0, 15), alpha=0.5, label='Extragalactic')\n",
    "plt.xticks(np.arange(15)+0.5, targets)\n",
    "plt.gca().set_yscale(\"log\")\n",
    "plt.xlabel('Class')\n",
    "plt.ylabel('Counts')\n",
    "plt.xlim(0, 15)\n",
    "plt.legend();"
   ]
  },
  {
   "cell_type": "code",
   "execution_count": 6,
   "metadata": {},
   "outputs": [],
   "source": [
    "# Build the flat probability arrays for both the galactic and extragalactic groups\n",
    "galactic_cut = meta_data['hostgal_specz'] == 0\n",
    "galactic_data = meta_data[galactic_cut]\n",
    "extragalactic_data = meta_data[~galactic_cut]\n",
    "\n",
    "galactic_classes = np.unique(galactic_data['target_id'])\n",
    "extragalactic_classes = np.unique(extragalactic_data['target_id'])\n",
    "\n",
    "# Add class 99 (id=14) to both groups.\n",
    "galactic_classes = np.append(galactic_classes, 14)\n",
    "extragalactic_classes = np.append(extragalactic_classes, 14)\n",
    "\n",
    "galactic_probabilities = np.zeros(15)\n",
    "galactic_probabilities[galactic_classes] = 1. / len(galactic_classes)\n",
    "extragalactic_probabilities = np.zeros(15)\n",
    "extragalactic_probabilities[extragalactic_classes] = 1. / len(extragalactic_classes)"
   ]
  },
  {
   "cell_type": "code",
   "execution_count": 7,
   "metadata": {},
   "outputs": [
    {
     "name": "stderr",
     "output_type": "stream",
     "text": [
      "100%|██████████| 7848/7848 [00:00<00:00, 34701.05it/s]\n",
      "100%|██████████| 3492890/3492890 [01:37<00:00, 35844.29it/s]\n"
     ]
    }
   ],
   "source": [
    "# Apply this prediction to a table\n",
    "import tqdm\n",
    "def do_prediction(table):\n",
    "    probs = []\n",
    "    for index, row in tqdm.tqdm(table.iterrows(), total=len(table)):\n",
    "        if row['hostgal_photoz'] == 0:\n",
    "            prob = galactic_probabilities\n",
    "        else:\n",
    "            prob = extragalactic_probabilities\n",
    "        probs.append(prob)\n",
    "    return np.array(probs)\n",
    "\n",
    "pred = do_prediction(meta_data)\n",
    "test_pred = do_prediction(test_meta_data)"
   ]
  },
  {
   "cell_type": "code",
   "execution_count": 8,
   "metadata": {},
   "outputs": [],
   "source": [
    "test_df = pd.DataFrame(index=test_meta_data['object_id'], data=test_pred, columns=['class_%d' % i for i in targets])\n",
    "test_df.to_csv('./naive_benchmark.csv')"
   ]
  },
  {
   "cell_type": "code",
   "execution_count": null,
   "metadata": {},
   "outputs": [],
   "source": []
  }
 ],
 "metadata": {
  "kernelspec": {
   "display_name": "Python 3",
   "language": "python",
   "name": "python3"
  },
  "language_info": {
   "codemirror_mode": {
    "name": "ipython",
    "version": 3
   },
   "file_extension": ".py",
   "mimetype": "text/x-python",
   "name": "python",
   "nbconvert_exporter": "python",
   "pygments_lexer": "ipython3",
   "version": "3.7.1"
  }
 },
 "nbformat": 4,
 "nbformat_minor": 2
}
